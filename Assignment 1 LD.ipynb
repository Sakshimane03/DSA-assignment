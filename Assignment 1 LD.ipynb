{
 "cells": [
  {
   "cell_type": "markdown",
   "id": "cf491b3c",
   "metadata": {},
   "source": [
    "**Q1.Write a program to find all pairs of an integer array whose sum is equal to a given number?**"
   ]
  },
  {
   "cell_type": "code",
   "execution_count": 10,
   "id": "8a3aefda",
   "metadata": {},
   "outputs": [
    {
     "name": "stdout",
     "output_type": "stream",
     "text": [
      "(1, 5)\n",
      "(1, 5)\n",
      "(7, -1)\n"
     ]
    }
   ],
   "source": [
    "def printPairs(arr, n, sum):\n",
    "\n",
    "    for i in range(0, n ):\n",
    "        for j in range(i + 1, n ):\n",
    "            if (arr[i] + arr[j] == sum):\n",
    "                print(\"(\", arr[i],\n",
    "                      \", \", arr[j],\n",
    "                      \")\", sep = \"\")\n",
    " \n",
    " \n",
    "arr = [1, 5, 7, -1, 5]\n",
    "n = len(arr)\n",
    "sum = 6\n",
    "printPairs(arr, n, sum)\n",
    " "
   ]
  },
  {
   "cell_type": "markdown",
   "id": "a26247d4",
   "metadata": {},
   "source": [
    "**Q2. Write a program to reverse an array in place? In place means you cannot create a new array. You have to update the original array.**"
   ]
  },
  {
   "cell_type": "code",
   "execution_count": 11,
   "id": "06049590",
   "metadata": {},
   "outputs": [
    {
     "name": "stdout",
     "output_type": "stream",
     "text": [
      "[0, 1, 2, 3, 4, 5, 6, 7, 8, 9]\n",
      "Reversed array is\n",
      "[9, 8, 7, 6, 5, 4, 3, 2, 1, 0]\n"
     ]
    }
   ],
   "source": [
    "arr = [0, 1, 2, 3, 4, 5, 6, 7, 8, 9]\n",
    "print(arr)\n",
    "arr = arr[::-1]\n",
    "print(\"Reversed array is\")\n",
    "print(arr)"
   ]
  },
  {
   "cell_type": "code",
   "execution_count": 12,
   "id": "fd9aa73b",
   "metadata": {},
   "outputs": [],
   "source": [
    "def reverse_arr(arr):\n",
    "    arr = reversed(arr)\n",
    "    return list(arr)\n",
    "arr = [11,12,13,14,15]"
   ]
  },
  {
   "cell_type": "code",
   "execution_count": 13,
   "id": "c5d1ef89",
   "metadata": {},
   "outputs": [
    {
     "data": {
      "text/plain": [
       "[15, 14, 13, 12, 11]"
      ]
     },
     "execution_count": 13,
     "metadata": {},
     "output_type": "execute_result"
    }
   ],
   "source": [
    "reverse_arr(arr)"
   ]
  },
  {
   "cell_type": "markdown",
   "id": "66b4f10e",
   "metadata": {},
   "source": []
  },
  {
   "cell_type": "markdown",
   "id": "58cd4259",
   "metadata": {},
   "source": [
    "\n",
    "**Q3. Write a program to check if two strings are a rotation of each other?**\n"
   ]
  },
  {
   "cell_type": "code",
   "execution_count": 14,
   "id": "2aa3cc66",
   "metadata": {},
   "outputs": [
    {
     "name": "stdout",
     "output_type": "stream",
     "text": [
      "Strings are rotation of each other\n"
     ]
    }
   ],
   "source": [
    "def rotation_check(s1, s2):\n",
    "    if len(s1) == len(s2):\n",
    "        temp = s1 + s1\n",
    "        if temp.count(s2) > 0:\n",
    "            return 1\n",
    "    else:\n",
    "        return 0\n",
    "s1 = \"ABCD\"\n",
    "s2 = \"BCDA\"\n",
    "if rotation_check(s1, s2):\n",
    "    print(\"Strings are rotation of each other\")\n",
    "else:\n",
    "    print(\"Strings are not rotation!\")"
   ]
  },
  {
   "cell_type": "markdown",
   "id": "f1ba3b5d",
   "metadata": {},
   "source": [
    "**Q4. Write a program to print the first non-repeated character from a string?**"
   ]
  },
  {
   "cell_type": "code",
   "execution_count": 15,
   "id": "5e0a8e82",
   "metadata": {},
   "outputs": [
    {
     "data": {
      "text/plain": [
       "'i'"
      ]
     },
     "execution_count": 15,
     "metadata": {},
     "output_type": "execute_result"
    }
   ],
   "source": [
    "def non_repeated(str1):\n",
    "    for i in str1:\n",
    "        count = str1.count(i)\n",
    "        if count == 1:\n",
    "            return i\n",
    "            break\n",
    "str1 = \"vaibhav\"\n",
    "non_repeated(str1)    "
   ]
  },
  {
   "cell_type": "markdown",
   "id": "647411ee",
   "metadata": {},
   "source": [
    "**Q5. Read about the Tower of Hanoi algorithm. Write a program to implement it.**"
   ]
  },
  {
   "cell_type": "code",
   "execution_count": 16,
   "id": "ad113de4",
   "metadata": {},
   "outputs": [
    {
     "name": "stdout",
     "output_type": "stream",
     "text": [
      "3\n",
      "Move disk 1 from rod A to rod C\n",
      "Move disk 2 from rod A to rod B\n",
      "Move disk 1 from rod C to rod B\n",
      "Move disk 3 from rod A to rod C\n",
      "Move disk 1 from rod B to rod A\n",
      "Move disk 2 from rod B to rod C\n",
      "Move disk 1 from rod A to rod C\n"
     ]
    }
   ],
   "source": [
    "def myfunc(n, A, C, B):\n",
    "    if n == 0:\n",
    "        return\n",
    "    myfunc(n-1, A, B, C)\n",
    "    print(\"Move disk\", n, \"from rod\", A, \"to rod\", C)\n",
    "    myfunc(n-1, B, C, A)\n",
    "\n",
    "n = int(input())\n",
    "myfunc(n, 'A', 'C', 'B')"
   ]
  },
  {
   "cell_type": "markdown",
   "id": "5dcc75a9",
   "metadata": {},
   "source": [
    "**Q6. Read about infix, prefix, and postfix expressions. Write a program to convert postfix to prefix expression.**"
   ]
  },
  {
   "cell_type": "code",
   "execution_count": 17,
   "id": "a38517f9",
   "metadata": {},
   "outputs": [
    {
     "name": "stdout",
     "output_type": "stream",
     "text": [
      "Prefix :  +AB-CD\n"
     ]
    }
   ],
   "source": [
    "def is_operator(n):\n",
    "    if n == \"+\":\n",
    "        return True\n",
    "    if n == \"-\":\n",
    "        return True\n",
    "    if n == \"/\":\n",
    "        return True\n",
    "    if n == \"*\":\n",
    "        return True\n",
    "    return False\n",
    "\n",
    "def post_pre(x):\n",
    "    s = []\n",
    "    length = len(x)\n",
    "    for i in range(length):\n",
    "        if (is_operator(x[i])):\n",
    "            op1 = s[-1]\n",
    "            s.pop()\n",
    "            op2 = s[-1]\n",
    "            s.pop()\n",
    "            temp = x[i] + op2 + op1\n",
    "            s.append(temp)\n",
    "        else:\n",
    "             s.append(x[i])\n",
    "    ans = \"\"\n",
    "    for i in s:\n",
    "        ans += i\n",
    "    return ans\n",
    "\n",
    "x = \"AB+CD-\"\n",
    "print(\"Prefix : \", post_pre(x))"
   ]
  },
  {
   "cell_type": "markdown",
   "id": "db4ac35c",
   "metadata": {},
   "source": [
    "**Q7. Write a program to convert prefix expression to infix expression.**"
   ]
  },
  {
   "cell_type": "code",
   "execution_count": 18,
   "id": "c291f30a",
   "metadata": {},
   "outputs": [
    {
     "name": "stdout",
     "output_type": "stream",
     "text": [
      "((A-(B/C))*((A/K)-L))\n"
     ]
    }
   ],
   "source": [
    "def prefixToInfix(prefix):\n",
    "    stack = []\n",
    "    i = len(prefix) - 1\n",
    "    while i >= 0:\n",
    "        if not isOperator(prefix[i]):\n",
    "\n",
    "            stack.append(prefix[i])\n",
    "            i -= 1\n",
    "        else:\n",
    "            str = \"(\" + stack.pop() + prefix[i] + stack.pop() + \")\"\n",
    "            stack.append(str)\n",
    "            i -= 1\n",
    "    return stack.pop()\n",
    "\n",
    "def isOperator(c):\n",
    "    if c == \"*\" or c == \"+\" or c == \"-\" or c == \"/\" or c == \"^\" or c == \"(\" or c == \")\":\n",
    "        return True\n",
    "    else:\n",
    "        return False\n",
    "\n",
    "str = \"*-A/BC-/AKL\"\n",
    "print(prefixToInfix(str))"
   ]
  },
  {
   "cell_type": "markdown",
   "id": "3dca40ad",
   "metadata": {},
   "source": [
    "**Q8. Write a program to check if all the brackets are closed in a given code snippet.**"
   ]
  },
  {
   "cell_type": "code",
   "execution_count": 19,
   "id": "93d742e4",
   "metadata": {},
   "outputs": [
    {
     "name": "stdout",
     "output_type": "stream",
     "text": [
      "Not Balanced\n"
     ]
    }
   ],
   "source": [
    "def brackets_check(x):\n",
    "    var = []\n",
    " \n",
    "    for i in x:\n",
    "        if i in [\"(\", \"{\", \"[\"]:\n",
    "            var.append(i)\n",
    "            \n",
    "        else:\n",
    "            if not var:\n",
    "                return False\n",
    "            temp_char = var.pop()\n",
    "            if temp_char == '(':\n",
    "                if i != \")\":\n",
    "                    return False\n",
    "            if temp_char == '{':\n",
    "                if i != \"}\":\n",
    "                    return False\n",
    "            if temp_char == '[':\n",
    "                if i != \"]\":\n",
    "                    return False\n",
    " \n",
    "    if var:\n",
    "        return False\n",
    "    return True\n",
    "\n",
    "x = \"{()}[(]\"\n",
    "    \n",
    "if brackets_check(x):\n",
    "    print(\"Balanced\")\n",
    "else:\n",
    "    print(\"Not Balanced\")"
   ]
  },
  {
   "cell_type": "markdown",
   "id": "d6af82f0",
   "metadata": {},
   "source": [
    "**Q9. Write a program to reverse a stack.**"
   ]
  },
  {
   "cell_type": "code",
   "execution_count": 20,
   "id": "6d85cb4c",
   "metadata": {},
   "outputs": [
    {
     "name": "stdout",
     "output_type": "stream",
     "text": [
      "Original Stack\n",
      "11\n",
      "12\n",
      "13\n",
      "14\n",
      "15\n",
      "Reversed Stack\n",
      "15\n",
      "14\n",
      "13\n",
      "12\n",
      "11\n"
     ]
    }
   ],
   "source": [
    "def reverse_stack(stack):\n",
    "    stack = reversed(stack)\n",
    "    return list(stack)\n",
    "stack = [11,12,13,14,15]\n",
    "\n",
    "print(\"Original Stack\", *stack, sep='\\n')\n",
    "print(\"Reversed Stack\", *reverse_stack(stack), sep='\\n')"
   ]
  },
  {
   "cell_type": "markdown",
   "id": "cb96b073",
   "metadata": {},
   "source": [
    "**Q10. Write a program to find the smallest number using a stack.**"
   ]
  },
  {
   "cell_type": "code",
   "execution_count": 21,
   "id": "3ede8851",
   "metadata": {},
   "outputs": [
    {
     "data": {
      "text/plain": [
       "-1"
      ]
     },
     "execution_count": 21,
     "metadata": {},
     "output_type": "execute_result"
    }
   ],
   "source": [
    "def min_value(stack):\n",
    "    x=sorted(stack)\n",
    "    return x[0]\n",
    "    \n",
    "stack=[50,7,4,3,-1]    \n",
    "min_value(stack) "
   ]
  },
  {
   "cell_type": "code",
   "execution_count": 22,
   "id": "f27150f8",
   "metadata": {},
   "outputs": [
    {
     "data": {
      "text/plain": [
       "14"
      ]
     },
     "execution_count": 22,
     "metadata": {},
     "output_type": "execute_result"
    }
   ],
   "source": [
    "stack1 = [45,67,23,55,14,88,90]\n",
    "min(*stack1)"
   ]
  },
  {
   "cell_type": "code",
   "execution_count": null,
   "id": "16476ff3",
   "metadata": {},
   "outputs": [],
   "source": []
  }
 ],
 "metadata": {
  "kernelspec": {
   "display_name": "Python 3 (ipykernel)",
   "language": "python",
   "name": "python3"
  },
  "language_info": {
   "codemirror_mode": {
    "name": "ipython",
    "version": 3
   },
   "file_extension": ".py",
   "mimetype": "text/x-python",
   "name": "python",
   "nbconvert_exporter": "python",
   "pygments_lexer": "ipython3",
   "version": "3.10.1"
  }
 },
 "nbformat": 4,
 "nbformat_minor": 5
}
